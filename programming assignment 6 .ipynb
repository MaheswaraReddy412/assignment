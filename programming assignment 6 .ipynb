{
 "cells": [
  {
   "cell_type": "code",
   "execution_count": 4,
   "id": "299c1511",
   "metadata": {},
   "outputs": [
    {
     "name": "stdout",
     "output_type": "stream",
     "text": [
      "How many terms? 5\n",
      "Fibonacci sequence:\n",
      "0\n",
      "1\n",
      "1\n",
      "2\n",
      "3\n"
     ]
    }
   ],
   "source": [
    "def recur_fibo(n):\n",
    "    if n <= 1:\n",
    "        return n  \n",
    "    else:  \n",
    "        return(recur_fibo(n-1) + recur_fibo(n-2))  \n",
    "# Take input from the user\n",
    "nterms = int(input(\"How many terms? \"))  \n",
    "# Check if the number of terms is valid  \n",
    "if nterms <= 0:  \n",
    "    print(\"Plese enter a positive integer\")  \n",
    "else:  \n",
    "    print(\"Fibonacci sequence:\")  \n",
    "    for i in range(nterms):  \n",
    "       print(recur_fibo(i))  "
   ]
  },
  {
   "cell_type": "code",
   "execution_count": 5,
   "id": "4011a4bc",
   "metadata": {},
   "outputs": [
    {
     "name": "stdout",
     "output_type": "stream",
     "text": [
      "Enter a number: 5\n",
      "The factorial of 5 is 120\n"
     ]
    }
   ],
   "source": [
    "def recur_factorial(n):  \n",
    "   if n == 1:  \n",
    "       return n  \n",
    "   else:  \n",
    "       return n*recur_factorial(n-1)  \n",
    "# take input from the user  \n",
    "num = int(input(\"Enter a number: \"))  \n",
    "# check is the number is negative  \n",
    "if num < 0:  \n",
    "   print(\"Please enter posstive number\")  \n",
    "elif num == 0:  \n",
    "   print(\"The factorial of 0 is 1\")  \n",
    "else:  \n",
    "   print(\"The factorial of\",num,\"is\",recur_factorial(num))  "
   ]
  },
  {
   "cell_type": "code",
   "execution_count": 8,
   "id": "11528b10",
   "metadata": {},
   "outputs": [
    {
     "name": "stdout",
     "output_type": "stream",
     "text": [
      "Enter the height in cm: 162\n",
      "Enter the weight in kg: 65\n",
      "Your Body Mass Index is 24.76756591982929\n",
      "You are healthy.\n"
     ]
    }
   ],
   "source": [
    "\n",
    "height = float(input(\"Enter the height in cm: \"))  \n",
    "weight = float(input(\"Enter the weight in kg: \"))   \n",
    "BMI = weight / (height/100)**2  \n",
    " \n",
    "print(\"Your Body Mass Index is\",BMI)  \n",
    "\n",
    "if BMI <= 18.5:  \n",
    "    print(\"You are underweight.\")  \n",
    "elif BMI <= 24.9:  \n",
    "    print(\"You are healthy.\")  \n",
    "elif BMI <= 29.9:  \n",
    "    print(\"You are over weight.\")  \n",
    "else:  \n",
    "    print(\"You are obese.\")  "
   ]
  },
  {
   "cell_type": "code",
   "execution_count": 10,
   "id": "18013cb6",
   "metadata": {},
   "outputs": [
    {
     "name": "stdout",
     "output_type": "stream",
     "text": [
      "Enter the number10\n",
      "2.302585092994046\n"
     ]
    }
   ],
   "source": [
    "import math\n",
    "number=int(input(\"Enter the number\"))\n",
    "output=math.log(number)\n",
    "print(output)\n"
   ]
  },
  {
   "cell_type": "code",
   "execution_count": 12,
   "id": "59440c6f",
   "metadata": {},
   "outputs": [
    {
     "name": "stdout",
     "output_type": "stream",
     "text": [
      "Enter the number10\n",
      "3025\n"
     ]
    }
   ],
   "source": [
    "def sumOfSeries(n):\n",
    "   sum = 0\n",
    "   for i in range(1, n+1):\n",
    "      sum +=i*i*i\n",
    "   return sum\n",
    "# Driver Function\n",
    "number=int(input(\"Enter the number\"))\n",
    "print(sumOfSeries(number))"
   ]
  },
  {
   "cell_type": "code",
   "execution_count": null,
   "id": "41068b07",
   "metadata": {},
   "outputs": [],
   "source": []
  }
 ],
 "metadata": {
  "kernelspec": {
   "display_name": "Python 3",
   "language": "python",
   "name": "python3"
  },
  "language_info": {
   "codemirror_mode": {
    "name": "ipython",
    "version": 3
   },
   "file_extension": ".py",
   "mimetype": "text/x-python",
   "name": "python",
   "nbconvert_exporter": "python",
   "pygments_lexer": "ipython3",
   "version": "3.8.8"
  }
 },
 "nbformat": 4,
 "nbformat_minor": 5
}
