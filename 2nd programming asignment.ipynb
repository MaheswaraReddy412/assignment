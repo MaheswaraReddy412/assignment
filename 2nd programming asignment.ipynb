{
 "cells": [
  {
   "cell_type": "code",
   "execution_count": 2,
   "id": "a6838560",
   "metadata": {},
   "outputs": [
    {
     "name": "stdout",
     "output_type": "stream",
     "text": [
      "enter kilometers10\n",
      "10 kilometers is  6.21371\n"
     ]
    }
   ],
   "source": [
    "kilometers=int(input(\"enter kilometers\"))\n",
    "miles=kilometers*0.621371\n",
    "print(str(kilometers)+str(\" \")+str(\"kilometers is \")+str(\" \")+str(miles))"
   ]
  },
  {
   "cell_type": "code",
   "execution_count": 6,
   "id": "e7381bad",
   "metadata": {},
   "outputs": [
    {
     "name": "stdout",
     "output_type": "stream",
     "text": [
      "enter celsius25\n",
      "25 celsius in fahrenheit is 77.0\n"
     ]
    }
   ],
   "source": [
    "celsius=int(input(\"enter celsius\"))\n",
    "fahrenheit=(celsius*9/5)+32\n",
    "print(str(celsius)+str(\" \")+str(\"celsius in fahrenheit is\")+str(\" \")+str(fahrenheit))\n"
   ]
  },
  {
   "cell_type": "code",
   "execution_count": 8,
   "id": "fc52f591",
   "metadata": {},
   "outputs": [
    {
     "name": "stdout",
     "output_type": "stream",
     "text": [
      "enter  month12\n",
      "enter year1996\n",
      "   December 1996\n",
      "Mo Tu We Th Fr Sa Su\n",
      "                   1\n",
      " 2  3  4  5  6  7  8\n",
      " 9 10 11 12 13 14 15\n",
      "16 17 18 19 20 21 22\n",
      "23 24 25 26 27 28 29\n",
      "30 31\n",
      "\n"
     ]
    }
   ],
   "source": [
    "import calendar \n",
    "mon=int(input(\"enter  month\"))\n",
    "year=int(input(\"enter year\"))\n",
    "print(calendar.month(year,mon))"
   ]
  },
  {
   "cell_type": "code",
   "execution_count": 17,
   "id": "d9008df4",
   "metadata": {},
   "outputs": [
    {
     "name": "stdout",
     "output_type": "stream",
     "text": [
      "enter number4\n",
      "enter number5\n",
      "enter number6\n",
      "(-4.387627564304205+0j) (-5.612372435695795+0j)\n"
     ]
    }
   ],
   "source": [
    "import cmath as cm\n",
    "a=int(input(\"enter number\"))\n",
    "b=int(input(\"enter number\"))\n",
    "c=int(input(\"enter number\"))\n",
    "m=a**-4*a*c\n",
    "s1=(-b+cm.sqrt(m)/2*a)\n",
    "s2=(-b-cm.sqrt(m)/2*a)\n",
    "print(s1,s2)"
   ]
  },
  {
   "cell_type": "code",
   "execution_count": 18,
   "id": "ae9c0833",
   "metadata": {},
   "outputs": [
    {
     "name": "stdout",
     "output_type": "stream",
     "text": [
      "enter frist variable56\n",
      "enter second variable87\n",
      "87 56\n"
     ]
    }
   ],
   "source": [
    "a=int(input(\"enter frist variable\"))\n",
    "b=int(input(\"enter second variable\"))\n",
    "a=a+b\n",
    "b=a-b\n",
    "a=a-b\n",
    "print(a,b)"
   ]
  },
  {
   "cell_type": "code",
   "execution_count": null,
   "id": "6bf3a545",
   "metadata": {},
   "outputs": [],
   "source": []
  }
 ],
 "metadata": {
  "kernelspec": {
   "display_name": "Python 3",
   "language": "python",
   "name": "python3"
  },
  "language_info": {
   "codemirror_mode": {
    "name": "ipython",
    "version": 3
   },
   "file_extension": ".py",
   "mimetype": "text/x-python",
   "name": "python",
   "nbconvert_exporter": "python",
   "pygments_lexer": "ipython3",
   "version": "3.8.8"
  }
 },
 "nbformat": 4,
 "nbformat_minor": 5
}
