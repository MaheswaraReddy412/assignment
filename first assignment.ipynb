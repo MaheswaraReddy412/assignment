{
 "cells": [
  {
   "cell_type": "code",
   "execution_count": 1,
   "id": "7db88774",
   "metadata": {},
   "outputs": [
    {
     "name": "stdout",
     "output_type": "stream",
     "text": [
      "Hello Python\n"
     ]
    }
   ],
   "source": [
    "hello=\"Hello Python\"\n",
    "print(hello)"
   ]
  },
  {
   "cell_type": "code",
   "execution_count": 2,
   "id": "3a634b78",
   "metadata": {},
   "outputs": [
    {
     "name": "stdout",
     "output_type": "stream",
     "text": [
      "12\n",
      "20\n"
     ]
    }
   ],
   "source": [
    "a=10\n",
    "b=2\n",
    "c=a+b\n",
    "d=a*b\n",
    "print(c)\n",
    "print(d)"
   ]
  },
  {
   "cell_type": "code",
   "execution_count": 7,
   "id": "74b1721e",
   "metadata": {},
   "outputs": [
    {
     "name": "stdout",
     "output_type": "stream",
     "text": [
      "enter base of the traingle3\n",
      "enter perpendeculer_height of the traingle5\n",
      "area of the traingle is 7.5\n"
     ]
    }
   ],
   "source": [
    "b=float(input(\"enter base of the traingle\"))\n",
    "h=float(input(\"enter perpendeculer_height of the traingle\"))\n",
    "area_traingle=1/2*b*h\n",
    "print(str(\"area of the traingle is\")+str(\" \")+str(area_traingle))"
   ]
  },
  {
   "cell_type": "code",
   "execution_count": 10,
   "id": "b5d4c49f",
   "metadata": {},
   "outputs": [
    {
     "name": "stdout",
     "output_type": "stream",
     "text": [
      "enter first number5\n",
      "enter second number4\n",
      "first number after swapping 4\n",
      "scond number after swapping 5\n"
     ]
    }
   ],
   "source": [
    "x=int(input(\"enter first number\"))\n",
    "y=int(input(\"enter second number\"))\n",
    "x,y=y,x\n",
    "print(str(\"first number after swapping\"+\" \"+str(x)))\n",
    "print(str(\"scond number after swapping\"+\" \"+str(y)))\n"
   ]
  },
  {
   "cell_type": "code",
   "execution_count": 16,
   "id": "f88f9cdc",
   "metadata": {},
   "outputs": [
    {
     "name": "stdout",
     "output_type": "stream",
     "text": [
      "8\n"
     ]
    }
   ],
   "source": [
    "import random as rd\n",
    "number=rd.randint(3,15)\n",
    "print(number)"
   ]
  },
  {
   "cell_type": "code",
   "execution_count": null,
   "id": "c0efb2e3",
   "metadata": {},
   "outputs": [],
   "source": []
  }
 ],
 "metadata": {
  "kernelspec": {
   "display_name": "Python 3",
   "language": "python",
   "name": "python3"
  },
  "language_info": {
   "codemirror_mode": {
    "name": "ipython",
    "version": 3
   },
   "file_extension": ".py",
   "mimetype": "text/x-python",
   "name": "python",
   "nbconvert_exporter": "python",
   "pygments_lexer": "ipython3",
   "version": "3.8.8"
  }
 },
 "nbformat": 4,
 "nbformat_minor": 5
}
