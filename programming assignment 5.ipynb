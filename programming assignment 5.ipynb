{
 "cells": [
  {
   "cell_type": "code",
   "execution_count": 4,
   "id": "25080a3f",
   "metadata": {},
   "outputs": [
    {
     "name": "stdout",
     "output_type": "stream",
     "text": [
      "Enter first number: 5\n",
      "Enter second number: 7\n",
      "The L.C.M. of 5 and 7 is 35\n"
     ]
    }
   ],
   "source": [
    "def calculate_lcm(x, y):   \n",
    "    if x > y:  \n",
    "        greater = x  \n",
    "    else:  \n",
    "        greater = y  \n",
    "    while(True):  \n",
    "        if((greater % x == 0) and (greater % y == 0)):  \n",
    "            lcm = greater  \n",
    "            break  \n",
    "        greater += 1  \n",
    "    return lcm    \n",
    "    \n",
    "n1 = int(input(\"Enter first number: \"))  \n",
    "n2 = int(input(\"Enter second number: \"))  \n",
    " \n",
    "print(\"The L.C.M. of\", n1,\"and\", n2,\"is\", calculate_lcm(n1, n2))  "
   ]
  },
  {
   "cell_type": "code",
   "execution_count": 6,
   "id": "89a7c5ec",
   "metadata": {},
   "outputs": [
    {
     "name": "stdout",
     "output_type": "stream",
     "text": [
      "Enter first number: 5\n",
      "Enter second number: 6\n",
      "The H.C.F. of 5 and 6 is 1\n"
     ]
    }
   ],
   "source": [
    "def calculate_hcf(x, y):  \n",
    "    if x > y:  \n",
    "        smaller = y  \n",
    "    else:  \n",
    "        smaller = x  \n",
    "    for i in range(1,smaller + 1):  \n",
    "        if((x % i == 0) and (y % i == 0)):  \n",
    "            hcf = i  \n",
    "    return hcf  \n",
    "   \n",
    "n1 = int(input(\"Enter first number: \"))  \n",
    "n2 = int(input(\"Enter second number: \"))\n",
    "print(\"The H.C.F. of\", n1,\"and\", n2,\"is\", calculate_hcf(n1, n2))  "
   ]
  },
  {
   "cell_type": "code",
   "execution_count": 8,
   "id": "7cc96b9c",
   "metadata": {},
   "outputs": [
    {
     "name": "stdout",
     "output_type": "stream",
     "text": [
      "Enter the number125\n",
      "The decimal value of 125 is:\n",
      "0b1111101 in binary.\n",
      "0o175 in octal.\n",
      "0x7d in hexadecimal.\n"
     ]
    }
   ],
   "source": [
    "dec = int(input(\"Enter the number\"))\n",
    "print(\"The decimal value of\", dec, \"is:\")\n",
    "print(bin(dec), \"in binary.\")\n",
    "print(oct(dec), \"in octal.\")\n",
    "print(hex(dec), \"in hexadecimal.\")"
   ]
  },
  {
   "cell_type": "code",
   "execution_count": 13,
   "id": "7c45a7d2",
   "metadata": {},
   "outputs": [
    {
     "name": "stdout",
     "output_type": "stream",
     "text": [
      "Enter a character: m\n",
      "The ASCII value of 'm' is  109\n"
     ]
    }
   ],
   "source": [
    "C= input(\"Enter a character: \")    \n",
    "    \n",
    "print (\"The ASCII value of '\" + C + \"' is \", ord(C))  "
   ]
  },
  {
   "cell_type": "code",
   "execution_count": 1,
   "id": "04f3d301",
   "metadata": {},
   "outputs": [
    {
     "name": "stdout",
     "output_type": "stream",
     "text": [
      "Select operation.\n",
      "1.Add\n",
      "2.Subtract\n",
      "3.Multiply\n",
      "4.Divide\n",
      "Enter choice(1/2/3/4): 3\n",
      "Enter first number: 5\n",
      "Enter second number: 4\n",
      "5.0 * 4.0 = 20.0\n",
      "Let's do next calculation? (yes/no): y\n",
      "Enter choice(1/2/3/4): 3\n",
      "Enter first number: 5\n",
      "Enter second number: 3\n",
      "5.0 * 3.0 = 15.0\n",
      "Let's do next calculation? (yes/no): y\n",
      "Enter choice(1/2/3/4): 4\n",
      "Enter first number: 3\n",
      "Enter second number: 2\n",
      "3.0 / 2.0 = 1.5\n",
      "Let's do next calculation? (yes/no): n\n",
      "Enter choice(1/2/3/4): 1\n",
      "Enter first number: 3\n",
      "Enter second number: 2\n",
      "3.0 + 2.0 = 5.0\n",
      "Let's do next calculation? (yes/no): no\n"
     ]
    }
   ],
   "source": [
    "def add(x, y):\n",
    "    return x + y\n",
    "\n",
    "def subtract(x, y):\n",
    "    return x - y\n",
    "\n",
    "def multiply(x, y):\n",
    "    return x * y\n",
    "\n",
    "def divide(x, y):\n",
    "    return x / y\n",
    "\n",
    "\n",
    "print(\"Select operation.\")\n",
    "print(\"1.Add\")\n",
    "print(\"2.Subtract\")\n",
    "print(\"3.Multiply\")\n",
    "print(\"4.Divide\")\n",
    "\n",
    "while True:\n",
    "    choice = input(\"Enter choice(1/2/3/4): \")\n",
    "\n",
    "    if choice in ('1', '2', '3', '4'):\n",
    "        num1 = float(input(\"Enter first number: \"))\n",
    "        num2 = float(input(\"Enter second number: \"))\n",
    "\n",
    "        if choice == '1':\n",
    "            print(num1, \"+\", num2, \"=\", add(num1, num2))\n",
    "\n",
    "        elif choice == '2':\n",
    "            print(num1, \"-\", num2, \"=\", subtract(num1, num2))\n",
    "\n",
    "        elif choice == '3':\n",
    "            print(num1, \"*\", num2, \"=\", multiply(num1, num2))\n",
    "\n",
    "        elif choice == '4':\n",
    "            print(num1, \"/\", num2, \"=\", divide(num1, num2))\n",
    "        next_calculation = input(\"Let's do next calculation? (yes/no): \")\n",
    "        if next_calculation == \"no\":\n",
    "            break\n",
    "    \n",
    "    else:\n",
    "        print(\"Invalid Input\")"
   ]
  },
  {
   "cell_type": "code",
   "execution_count": null,
   "id": "f8e503f8",
   "metadata": {},
   "outputs": [],
   "source": []
  }
 ],
 "metadata": {
  "kernelspec": {
   "display_name": "Python 3",
   "language": "python",
   "name": "python3"
  },
  "language_info": {
   "codemirror_mode": {
    "name": "ipython",
    "version": 3
   },
   "file_extension": ".py",
   "mimetype": "text/x-python",
   "name": "python",
   "nbconvert_exporter": "python",
   "pygments_lexer": "ipython3",
   "version": "3.8.8"
  }
 },
 "nbformat": 4,
 "nbformat_minor": 5
}
